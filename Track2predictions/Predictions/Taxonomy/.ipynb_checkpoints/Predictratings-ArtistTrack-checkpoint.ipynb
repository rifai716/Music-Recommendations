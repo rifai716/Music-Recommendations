{
 "cells": [
  {
   "cell_type": "code",
   "execution_count": 1,
   "metadata": {
    "collapsed": true
   },
   "outputs": [],
   "source": [
    "##################################################################\n",
    "### Summary\n",
    "## Simply judge like or dislike by adding album and artist rating.\n",
    "\n",
    "##################################################################\n",
    "### Libraries & Predefined Functions\n",
    "## Load Libraries\n",
    "from operator import itemgetter\n",
    "import os"
   ]
  },
  {
   "cell_type": "code",
   "execution_count": 2,
   "metadata": {
    "collapsed": true
   },
   "outputs": [],
   "source": [
    "## Environment Variables\n",
    "RESULT_FILE = \"/Users/whiplash/SJSU/Semester 2/CMPE 256/Project/Webscope_C15/track2/Results/prediction1.txt\"\n",
    "ARTISTTRACK_SCORE_FILE = \"/Users/whiplash/SJSU/Semester 2/CMPE 256/Project/Webscope_C15/track2/Data/test_artist_track_score.txt\""
   ]
  },
  {
   "cell_type": "code",
   "execution_count": 3,
   "metadata": {
    "collapsed": true
   },
   "outputs": [],
   "source": [
    "TESTSET_SCORE_FILE = \"/Users/whiplash/SJSU/Semester 2/CMPE 256/Project/Webscope_C15/track2/TestData/test_set.txt\""
   ]
  },
  {
   "cell_type": "code",
   "execution_count": 4,
   "metadata": {
    "collapsed": true
   },
   "outputs": [],
   "source": [
    "import pandas as pd\n",
    "\n",
    "testrecord = pd.read_csv('/Users/whiplash/SJSU/Semester 2/CMPE 256/Project/Webscope_C15/track2/TestData/test_set.txt', \n",
    "                          header=None, delimiter='|', names=['userId', 'songId'])"
   ]
  },
  {
   "cell_type": "code",
   "execution_count": 5,
   "metadata": {
    "collapsed": true
   },
   "outputs": [],
   "source": [
    "X = []\n",
    "for i, row in testrecord.iterrows():\n",
    "    x = (row['userId'], row['songId'])\n",
    "    X.append(x)"
   ]
  },
  {
   "cell_type": "code",
   "execution_count": 6,
   "metadata": {},
   "outputs": [
    {
     "name": "stdout",
     "output_type": "stream",
     "text": [
      "[(1, 188135), (1, 250273), (1, 60428), (1, 187953), (1, 108088), (1, 52615), (3, 170331), (3, 53881), (3, 92079), (3, 1199), (3, 72035), (3, 164737), (5, 230811), (5, 223222), (5, 11786), (5, 16367), (5, 76149), (5, 234512), (9, 213659), (9, 195174), (9, 119128), (9, 177509), (9, 150618), (9, 267024), (10, 136562), (10, 101910), (10, 283051), (10, 187560), (10, 47528), (10, 120383)]\n",
      "<class 'list'>\n"
     ]
    }
   ],
   "source": [
    "print(X[:30])\n",
    "print(type(X))"
   ]
  },
  {
   "cell_type": "code",
   "execution_count": 7,
   "metadata": {
    "collapsed": true
   },
   "outputs": [],
   "source": [
    "scorelist = []\n",
    "records = []\n",
    "#albumtrack prediction\n",
    "with open(ARTISTTRACK_SCORE_FILE) as artisttrackdata:\n",
    "    for line in artisttrackdata:\n",
    "        score = line.strip(\"\\n\").split(\"|\")\n",
    "        if score[2]!=\"None\":\n",
    "            scorelist.append(score[3:])\n",
    "        else:\n",
    "            scorelist.append(['0'])\n",
    "        x = score[0], score[1]\n",
    "        records.append(x)\n",
    "\n",
    "        \n",
    "recordsint = [list(map(int, x)) for x in records]\n",
    "\n",
    "scorelist_modified = []\n",
    "for index, item in enumerate(scorelist):\n",
    "    listlength = len(item)\n",
    "#     print(type(item))\n",
    "    if listlength < 2:\n",
    "        if item[0] == \"None\":\n",
    "            scorelist_modified.append(0)\n",
    "        else:\n",
    "            for ind, it in enumerate(item):\n",
    "                item[ind] = int(it)\n",
    "            if item[ind] > 80 :\n",
    "                scorelist_modified.append(1)\n",
    "            else:\n",
    "                scorelist_modified.append(0)\n",
    "    else:\n",
    "        high = 0\n",
    "        average = 0\n",
    "        total = 0\n",
    "        for ind, it in enumerate(item):\n",
    "            item[ind] = int(it)\n",
    "            total += item[ind]\n",
    "        average = total/listlength\n",
    "        if average > 80 :\n",
    "            scorelist_modified.append(1)\n",
    "        else:\n",
    "            scorelist_modified.append(0)"
   ]
  },
  {
   "cell_type": "code",
   "execution_count": 9,
   "metadata": {},
   "outputs": [
    {
     "data": {
      "text/plain": [
       "188135"
      ]
     },
     "execution_count": 9,
     "metadata": {},
     "output_type": "execute_result"
    }
   ],
   "source": [
    "recordsint[0][1]"
   ]
  },
  {
   "cell_type": "code",
   "execution_count": 10,
   "metadata": {
    "collapsed": true
   },
   "outputs": [],
   "source": [
    "trainset = []\n",
    "for x in range(len(recordsint)):\n",
    "    i = (recordsint[x][0],recordsint[x][1],scorelist_modified[x])\n",
    "    trainset.append(i)"
   ]
  },
  {
   "cell_type": "code",
   "execution_count": 11,
   "metadata": {
    "collapsed": true
   },
   "outputs": [],
   "source": [
    "truerating = []"
   ]
  },
  {
   "cell_type": "code",
   "execution_count": 14,
   "metadata": {
    "collapsed": true
   },
   "outputs": [],
   "source": [
    "store = open(\"/Users/whiplash/SJSU/Semester 2/CMPE 256/Project/Webscope_C15/track2/TrainingData/train_artist_track.txt\", \"w\")\n",
    "for x in range(len(recordsint)):\n",
    "    store.write(str(recordsint[x][0]) +',' + str(recordsint[x][1]) +',' + str(scorelist_modified[x]) +'\\n')\n",
    "store.close()"
   ]
  },
  {
   "cell_type": "code",
   "execution_count": 15,
   "metadata": {
    "collapsed": true
   },
   "outputs": [],
   "source": [
    "from surprise import SVD, evaluate\n",
    "from surprise import Dataset\n",
    "from surprise import Reader\n",
    "\n",
    "algo = SVD()\n",
    "file_path = '/Users/whiplash/SJSU/Semester 2/CMPE 256/Project/Webscope_C15/track2/TrainingData/train_artist_track.txt' # change this\n",
    "reader = Reader(line_format='user item rating', sep=',')\n",
    "data = Dataset.load_from_file(file_path, reader=reader)"
   ]
  },
  {
   "cell_type": "code",
   "execution_count": 16,
   "metadata": {
    "collapsed": true
   },
   "outputs": [],
   "source": [
    "store = open(\"/Users/whiplash/SJSU/Semester 2/CMPE 256/Project/Webscope_C15/track2/TrainingData/train_artist_track.txt\", \"w\")\n",
    "for x in range(len(recordsint)):\n",
    "    store.write(str(recordsint[x][0]) +',' + str(recordsint[x][1]) +',' + str(scorelist_modified[x]) +'\\n')\n",
    "store.close()"
   ]
  },
  {
   "cell_type": "code",
   "execution_count": 17,
   "metadata": {
    "collapsed": true
   },
   "outputs": [],
   "source": [
    "#train the dataset using ALBUMTRACK_SCORE_FILE and predict likings\n",
    "from surprise.model_selection import train_test_split\n",
    "from sklearn.metrics import f1_score\n",
    "trainset = data.build_full_trainset()"
   ]
  },
  {
   "cell_type": "code",
   "execution_count": 18,
   "metadata": {},
   "outputs": [
    {
     "data": {
      "text/plain": [
       "<surprise.prediction_algorithms.matrix_factorization.SVD at 0x11b1be470>"
      ]
     },
     "execution_count": 18,
     "metadata": {},
     "output_type": "execute_result"
    }
   ],
   "source": [
    "algo.fit(trainset)"
   ]
  },
  {
   "cell_type": "code",
   "execution_count": 19,
   "metadata": {
    "collapsed": true
   },
   "outputs": [],
   "source": [
    "#result\n",
    "TEST_DATA_FILE = \"/Users/whiplash/SJSU/Semester 2/CMPE 256/Project/Webscope_C15/track2/testIdx2.txt\"\n",
    "\n",
    "testresult = []\n",
    "\n",
    "with open(TEST_DATA_FILE) as testData:\n",
    "    for line in testData:\n",
    "        # \"|\" represent user information\n",
    "        if \"|\" in line:\n",
    "            [cur_user, cur_track] = line.strip(\"\\n\").split(\"|\")\n",
    "        else:\n",
    "            data = line.split()\n",
    "            cur_track = data[0]\n",
    "            result = data[1]\n",
    "            testresult.append(result)\n",
    "\n",
    "for index, item in enumerate(testresult):\n",
    "    if item == '-1':\n",
    "        testresult[index] = 0\n",
    "    else:\n",
    "        testresult[index] = 1"
   ]
  },
  {
   "cell_type": "code",
   "execution_count": 20,
   "metadata": {
    "collapsed": true
   },
   "outputs": [],
   "source": [
    "store = open(\"/Users/whiplash/SJSU/Semester 2/CMPE 256/Project/Webscope_C15/track2/TestData/Test_setsample.txt\", \"w\")\n",
    "for x in range(len(X)):\n",
    "    store.write(str(X[x][0]) +',' + str(X[x][1]) +',' + str(testresult[x]) +'\\n')\n",
    "store.close()"
   ]
  },
  {
   "cell_type": "code",
   "execution_count": 21,
   "metadata": {
    "collapsed": true
   },
   "outputs": [],
   "source": [
    "with open(\"/Users/whiplash/SJSU/Semester 2/CMPE 256/Project/Webscope_C15/track2/TestData/Test_setsample.txt\", \"r\") as fh:\n",
    "    lines = fh.readlines()"
   ]
  },
  {
   "cell_type": "code",
   "execution_count": 22,
   "metadata": {
    "collapsed": true
   },
   "outputs": [],
   "source": [
    "import re\n",
    "testset = []\n",
    "for i,x in enumerate(lines):\n",
    "    testset.append(re.split(r'[,\\n]', lines[i]))"
   ]
  },
  {
   "cell_type": "code",
   "execution_count": 25,
   "metadata": {
    "collapsed": true
   },
   "outputs": [],
   "source": [
    "predicted = []\n",
    "for item in testset:\n",
    "    predicted.append(algo.predict(item[0], item[1]).est)"
   ]
  },
  {
   "cell_type": "code",
   "execution_count": 33,
   "metadata": {},
   "outputs": [],
   "source": [
    "from sklearn.metrics import accuracy_score\n",
    "\n",
    "accuracy = accuracy_score(testresult, predicted)"
   ]
  },
  {
   "cell_type": "code",
   "execution_count": 34,
   "metadata": {},
   "outputs": [
    {
     "name": "stdout",
     "output_type": "stream",
     "text": [
      "0.3757577854215264\n"
     ]
    }
   ],
   "source": [
    "print(1-accuracy)"
   ]
  }
 ],
 "metadata": {
  "kernelspec": {
   "display_name": "Python 3",
   "language": "python",
   "name": "python3"
  },
  "language_info": {
   "codemirror_mode": {
    "name": "ipython",
    "version": 3
   },
   "file_extension": ".py",
   "mimetype": "text/x-python",
   "name": "python",
   "nbconvert_exporter": "python",
   "pygments_lexer": "ipython3",
   "version": "3.6.2"
  }
 },
 "nbformat": 4,
 "nbformat_minor": 2
}
