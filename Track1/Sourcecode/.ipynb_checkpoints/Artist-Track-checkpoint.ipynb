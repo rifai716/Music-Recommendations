{
 "cells": [
  {
   "cell_type": "code",
   "execution_count": 1,
   "metadata": {
    "collapsed": true
   },
   "outputs": [],
   "source": [
    "##################################################################\n",
    "### Summary\n",
    "# Generate the list of tracks under same artist for each track in testing.\n",
    "\n",
    "\n",
    "##################################################################\n",
    "### Libraries & Predefined Functions\n",
    "## Load Libraries\n",
    "from operator import itemgetter\n",
    "import time\n",
    "\n",
    "## Functions\n",
    "##################################################################\n",
    "### Main Program\n",
    "## Variables\n",
    "lists=[]"
   ]
  },
  {
   "cell_type": "code",
   "execution_count": 4,
   "metadata": {},
   "outputs": [],
   "source": [
    "## Generate tracks corresponding to album\n",
    "with open('/Users/whiplash/SJSU/Semester 2/CMPE 256/Project/Webscope_C15/track2/trackData2.txt') as albumData:\n",
    "    for line in albumData:\n",
    "        album = line.strip(\"\\n\").split(\"|\")\n",
    "        if album[2]!=\"None\":\n",
    "            lists.append([album[2],album[0]])\n",
    "#         print(album[0])"
   ]
  },
  {
   "cell_type": "code",
   "execution_count": 6,
   "metadata": {},
   "outputs": [],
   "source": [
    "## Generate format Album|Track1|Track2|...|TrackN\n",
    "lists = sorted(lists, key=itemgetter(0))\n",
    "cur_album = -1\n",
    "x=0\n",
    "\n",
    "with open('/Users/whiplash/SJSU/Semester 2/CMPE 256/Project/Webscope_C15/track2/Data/lib_artist_track.txt','w') as file:\n",
    "    for item in lists:\n",
    "        if item[0]!= cur_album:\n",
    "            cur_album = item[0]\n",
    "            file.write('\\n'*x+str(item[0])+\"|\"+str(item[1]))\n",
    "            x=1\n",
    "        else:\n",
    "            file.write(\"|\"+str(item[1]))"
   ]
  },
  {
   "cell_type": "code",
   "execution_count": 7,
   "metadata": {
    "collapsed": true
   },
   "outputs": [],
   "source": [
    "## Build Album-Track library\n",
    "file1 = open('/Users/whiplash/SJSU/Semester 2/CMPE 256/Project/Webscope_C15/track2/Data/lib_artist_track.txt')\n",
    "trainAlbum = file1.readlines()\n",
    "file1.close()\n",
    "trainAlbumDict={}\n",
    "for line_album in trainAlbum:\n",
    "    test_album = line_album.strip(\"\\n\").split(\"|\",maxsplit=1)\n",
    "    trainAlbumDict[test_album[0]]=test_album[1]"
   ]
  },
  {
   "cell_type": "code",
   "execution_count": 8,
   "metadata": {},
   "outputs": [
    {
     "name": "stdout",
     "output_type": "stream",
     "text": [
      "Finished\n"
     ]
    }
   ],
   "source": [
    "## Generate Track items under same album for test dataset\n",
    "with open('/Users/whiplash/SJSU/Semester 2/CMPE 256/Project/Webscope_C15/track2/Data/test_artist_track.txt','w') as testAlbum:\n",
    "    with open('/Users/whiplash/SJSU/Semester 2/CMPE 256/Project/Webscope_C15/track2/testTrack_hierarchy.txt') as testTrack:\n",
    "        for line_test in testTrack:\n",
    "            test_track = line_test.strip(\"\\n\").split(\"|\")\n",
    "            line_txt = test_track[0]+'|'+test_track[1]+'|'+test_track[3]\n",
    "#             print(test_track[0])#,\" %.2f s\"%(time.time()-start_time))\n",
    "            if test_track[3]!=\"None\":\n",
    "                test_AlbumTrk=trainAlbumDict[test_track[3]]\n",
    "                testAlbum.write(line_txt+\"|\"+test_AlbumTrk+\"\\n\")\n",
    "            else:\n",
    "                testAlbum.write(line_txt+\"\\n\")\n",
    "\n",
    "print(\"Finished\")"
   ]
  },
  {
   "cell_type": "code",
   "execution_count": null,
   "metadata": {
    "collapsed": true
   },
   "outputs": [],
   "source": []
  }
 ],
 "metadata": {
  "kernelspec": {
   "display_name": "Python 3",
   "language": "python",
   "name": "python3"
  },
  "language_info": {
   "codemirror_mode": {
    "name": "ipython",
    "version": 3
   },
   "file_extension": ".py",
   "mimetype": "text/x-python",
   "name": "python",
   "nbconvert_exporter": "python",
   "pygments_lexer": "ipython3",
   "version": "3.6.2"
  }
 },
 "nbformat": 4,
 "nbformat_minor": 2
}
