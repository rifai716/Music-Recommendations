{
 "cells": [
  {
   "cell_type": "code",
   "execution_count": 7,
   "metadata": {},
   "outputs": [],
   "source": [
    "with open(\"/Users/whiplash/SJSU/Semester 2/CMPE 256/Project/Webscope_C15/track2/TestData/Test_set.txt\",\"w\") as testHierarchy:\n",
    "    with open(\"/Users/whiplash/SJSU/Semester 2/CMPE 256/Project/Webscope_C15/track2/testIdx2.txt\") as testData:\n",
    "        for line in testData:\n",
    "            if \"|\" in line:\n",
    "                [cur_user, cur_track] = line.strip(\"\\n\").split(\"|\")\n",
    "            else:\n",
    "                data = line.split()\n",
    "                cur_track = data[0]\n",
    "                testHierarchy.write(cur_user+\"|\"+cur_track+\"\\n\")\n",
    "#             print(cur_user)"
   ]
  }
 ],
 "metadata": {
  "kernelspec": {
   "display_name": "Python 3",
   "language": "python",
   "name": "python3"
  },
  "language_info": {
   "codemirror_mode": {
    "name": "ipython",
    "version": 3
   },
   "file_extension": ".py",
   "mimetype": "text/x-python",
   "name": "python",
   "nbconvert_exporter": "python",
   "pygments_lexer": "ipython3",
   "version": "3.6.2"
  }
 },
 "nbformat": 4,
 "nbformat_minor": 2
}
