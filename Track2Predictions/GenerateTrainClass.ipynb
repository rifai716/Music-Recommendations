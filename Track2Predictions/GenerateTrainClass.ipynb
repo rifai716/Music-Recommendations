{
 "cells": [
  {
   "cell_type": "code",
   "execution_count": 1,
   "metadata": {
    "collapsed": true
   },
   "outputs": [],
   "source": [
    "import os\n",
    "\n",
    "# Environment Variables\n",
    "ALBUM_DATA_FILE = '/Users/whiplash/SJSU/Semester 2/CMPE 256/Project/Webscope_C15/track2/albumData2.txt'\n",
    "ARTIST_DATA_FILE = '/Users/whiplash/SJSU/Semester 2/CMPE 256/Project/Webscope_C15/track2/artistData2.txt'\n",
    "GENRE_DATA_FILE = '/Users/whiplash/SJSU/Semester 2/CMPE 256/Project/Webscope_C15/track2/genreData2.txt'\n",
    "TRAIN_DATA_FILE = '/Users/whiplash/SJSU/Semester 2/CMPE 256/Project/Webscope_C15/track2/trainIdx2.txt'\n",
    "CLASSIFIED_FILE = '/Users/whiplash/SJSU/Semester 2/CMPE 256/Project/Webscope_C15/track2/Data/train_Classified.txt'"
   ]
  },
  {
   "cell_type": "code",
   "execution_count": 2,
   "metadata": {
    "collapsed": true
   },
   "outputs": [],
   "source": [
    "##################################################################\n",
    "\n",
    "## Load Album, Artist, and Genre Data as library\n",
    "class_lib = {}\n",
    "# Load Album\n",
    "with open(ALBUM_DATA_FILE) as f:\n",
    "    for line in f:\n",
    "        temp = line.strip(\"\\n\").split(\"|\")\n",
    "        class_lib[temp[0]] = 2\n",
    "# Load Artist\n",
    "with open(ARTIST_DATA_FILE) as f:\n",
    "    for line in f:\n",
    "        class_lib[line.strip(\"\\n\")] = 3\n",
    "# Load Genre\n",
    "with open(GENRE_DATA_FILE) as f:\n",
    "    for line in f:\n",
    "        class_lib[line.strip(\"\\n\")] = 4"
   ]
  },
  {
   "cell_type": "code",
   "execution_count": 5,
   "metadata": {},
   "outputs": [
    {
     "name": "stdout",
     "output_type": "stream",
     "text": [
      "Finished\n"
     ]
    }
   ],
   "source": [
    "## Read file\n",
    "# The destination file to save train data with classification\n",
    "\n",
    "# Generate the classification of each training entity. Label track as 1, album as 2, artist as 3, and genre as 4.\n",
    "# For example: UserID|RatingCount TrackID|Rating|1 ArtistID|Rating|3 GenreID|Rating|4 AlbumID|Rating|2\n",
    "\n",
    "\n",
    "with open(CLASSIFIED_FILE,'w') as trainMod:\n",
    "    # The source file the contains training track ID\n",
    "    with open(TRAIN_DATA_FILE) as trainData:\n",
    "        for line in trainData:\n",
    "            # Identify the \"UserID|RatingCount\" line\n",
    "            if '|' in line:\n",
    "                [cur_user,cur_user_rates] = line.strip(\"\\n\").split(\"|\")\n",
    "#                 print('Calculating User',end =' ')\n",
    "#                 print(cur_user,end=' ')\n",
    "                trainMod.write(cur_user+\"|\"+cur_user_rates+\"\\n\")\n",
    "            # Read track ID lines\n",
    "            else:\n",
    "                [cur_item,cur_item_rate] = line.strip(\"\\n\").split(\"\\t\")\n",
    "                if cur_item in class_lib:\n",
    "                    cur_item_class = class_lib[cur_item]\n",
    "                else:\n",
    "                    cur_item_class = 1\n",
    "                trainMod.write(cur_item+\"|\"+cur_item_rate+\"|\"+str(cur_item_class)+\"\\n\")\n",
    "print(\"Finished\")"
   ]
  }
 ],
 "metadata": {
  "kernelspec": {
   "display_name": "Python 3",
   "language": "python",
   "name": "python3"
  },
  "language_info": {
   "codemirror_mode": {
    "name": "ipython",
    "version": 3
   },
   "file_extension": ".py",
   "mimetype": "text/x-python",
   "name": "python",
   "nbconvert_exporter": "python",
   "pygments_lexer": "ipython3",
   "version": "3.6.2"
  }
 },
 "nbformat": 4,
 "nbformat_minor": 2
}
