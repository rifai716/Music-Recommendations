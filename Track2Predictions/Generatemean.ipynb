{
 "cells": [
  {
   "cell_type": "code",
   "execution_count": 3,
   "metadata": {
    "collapsed": true
   },
   "outputs": [],
   "source": [
    "##################################################################\n",
    "### Summary\n",
    "# Generate mean of each user's ratings.\n",
    "\n",
    "##################################################################\n",
    "### Libraries & Functions\n",
    "## Load Libraries\n",
    "import os\n",
    "\n",
    "# Environment Variables\n",
    "HIERARCHY_FILE = \"/Users/whiplash/SJSU/Semester 2/CMPE 256/Project/Webscope_C15/track2//testTrack_hierarchy.txt\"\n",
    "USER_LIST_FILE = \"/Users/whiplash/SJSU/Semester 2/CMPE 256/Project/Webscope_C15/track2/Data/test_UserList.txt\"\n",
    "TRAIN_DATA_FILE = \"/Users/whiplash/SJSU/Semester 2/CMPE 256/Project/Webscope_C15/track2//trainIdx2.txt\"\n",
    "USER_MEAN_FILE = \"/Users/whiplash/SJSU/Semester 2/CMPE 256/Project/Webscope_C15/track2/Data/train_Mean.txt\""
   ]
  },
  {
   "cell_type": "code",
   "execution_count": 4,
   "metadata": {
    "collapsed": true
   },
   "outputs": [],
   "source": [
    "## Functions\n",
    "# Return a list of int\n",
    "def read_lines(f, num):\n",
    "    lines = []\n",
    "    line = f.readline().strip(\"\\n\").split(\"\\t\")\n",
    "    lines.append(int(line[1]))\n",
    "    if line:\n",
    "        for i in range(1,num):\n",
    "            line = f.readline().strip(\"\\n\").split(\"\\t\")\n",
    "            lines.append(int(line[1]))\n",
    "        return lines\n",
    "    else:\n",
    "        return line"
   ]
  },
  {
   "cell_type": "code",
   "execution_count": 5,
   "metadata": {
    "collapsed": true
   },
   "outputs": [],
   "source": [
    "##################################################################\n",
    "### Main Program\n",
    "\n",
    "## Get Testing user list, save as test_UserList.txt\n",
    "cur_user = -1\n",
    "with open(USER_LIST_FILE,'w') as userList:\n",
    "    with open(HIERARCHY_FILE) as f:\n",
    "        for line in f:\n",
    "            f_list=line.strip(\"\\n\").split(\"|\")\n",
    "            if cur_user != f_list[0]:\n",
    "                cur_user = f_list[0]\n",
    "                userList.write(cur_user+\"\\n\")"
   ]
  },
  {
   "cell_type": "code",
   "execution_count": 7,
   "metadata": {},
   "outputs": [
    {
     "name": "stdout",
     "output_type": "stream",
     "text": [
      "Finished\n"
     ]
    }
   ],
   "source": [
    "## Get user rating mean from training data\n",
    "cur_trainUser = [-1,-1]\n",
    "with open(USER_MEAN_FILE,\"w\") as trainMeanData:\n",
    "    with open(USER_LIST_FILE) as testUserList:\n",
    "        with open(TRAIN_DATA_FILE) as trainData:\n",
    "            for line in testUserList:\n",
    "                cur_user = line.strip(\"\\n\")\n",
    "                while int(cur_trainUser[0])<int(cur_user):\n",
    "                    trainLine = trainData.readline()\n",
    "                    cur_trainUser = trainLine.strip(\"\\n\").split(\"|\")\n",
    "                    trainLines = read_lines(trainData,int(cur_trainUser[1]))\n",
    "                train_sum = 0\n",
    "                for item in trainLines:\n",
    "                    train_sum += item\n",
    "\n",
    "                trainMeanData.write(cur_user+\"|\"+\"%.2f\"%(train_sum/len(trainLines))+\"\\n\")\n",
    "#                 print(cur_user)\n",
    "\n",
    "print(\"Finished\")"
   ]
  },
  {
   "cell_type": "code",
   "execution_count": null,
   "metadata": {
    "collapsed": true
   },
   "outputs": [],
   "source": []
  }
 ],
 "metadata": {
  "kernelspec": {
   "display_name": "Python 3",
   "language": "python",
   "name": "python3"
  },
  "language_info": {
   "codemirror_mode": {
    "name": "ipython",
    "version": 3
   },
   "file_extension": ".py",
   "mimetype": "text/x-python",
   "name": "python",
   "nbconvert_exporter": "python",
   "pygments_lexer": "ipython3",
   "version": "3.6.2"
  }
 },
 "nbformat": 4,
 "nbformat_minor": 2
}
