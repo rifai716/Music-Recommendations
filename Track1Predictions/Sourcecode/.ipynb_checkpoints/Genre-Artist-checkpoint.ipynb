{
 "cells": [
  {
   "cell_type": "code",
   "execution_count": 1,
   "metadata": {
    "collapsed": true
   },
   "outputs": [],
   "source": [
    "##################################################################\n",
    "### Summary\n",
    "\n",
    "\n",
    "##################################################################\n",
    "### Libraries & Predefined Functions\n",
    "## Load Libraries\n",
    "from operator import itemgetter"
   ]
  },
  {
   "cell_type": "code",
   "execution_count": 2,
   "metadata": {
    "collapsed": true
   },
   "outputs": [],
   "source": [
    "## Functions\n",
    "##################################################################\n",
    "### Main Program\n",
    "## Variables\n",
    "lists=[]\n",
    "genreData = []\n",
    "## Generate tracks corresponding to album\n",
    "with open('/Users/whiplash/SJSU/Semester 2/CMPE 256/Project/Webscope_C15/track2/trackData2.txt') as trackData:\n",
    "    for line in trackData:\n",
    "        track_info = line.strip(\"\\n\").split(\"|\")\n",
    "        if track_info[2] != \"None\":\n",
    "            if len(track_info) > 3:\n",
    "                del track_info[0]\n",
    "                del track_info[0]\n",
    "                genreData.append(track_info)"
   ]
  },
  {
   "cell_type": "code",
   "execution_count": 3,
   "metadata": {
    "collapsed": true
   },
   "outputs": [],
   "source": [
    "## Generate tracks corresponding to album\n",
    "for album in genreData:\n",
    "    for i in range(1,len(album)):\n",
    "        if album[i]!=\"None\":\n",
    "            lists.append([int(album[i]),album[0]])\n",
    "#     print(album[0])#,\" %.2f s\"%(time.time()-start_time))"
   ]
  },
  {
   "cell_type": "code",
   "execution_count": 4,
   "metadata": {},
   "outputs": [
    {
     "name": "stdout",
     "output_type": "stream",
     "text": [
      "Finished\n"
     ]
    }
   ],
   "source": [
    "## Generate format Album|Track1|Track2|...|TrackN\n",
    "lists = sorted(lists, key=itemgetter(0))\n",
    "cur_artist = -1\n",
    "x=0\n",
    "album_checklist = []\n",
    "\n",
    "with open('/Users/whiplash/SJSU/Semester 2/CMPE 256/Project/Webscope_C15/track2/Data/lib_genre_artist.txt','w') as file:\n",
    "    for item in lists:\n",
    "        if item[0]!= cur_artist:\n",
    "            cur_artist = item[0]\n",
    "            del album_checklist[:]\n",
    "            file.write('\\n'*x+str(item[0])+\"|\"+str(item[1]))\n",
    "            album_checklist.append(item[1])\n",
    "            x=1\n",
    "        else:\n",
    "            if item[1] not in album_checklist:\n",
    "                file.write(\"|\"+str(item[1]))\n",
    "                album_checklist.append(item[1])\n",
    "print(\"Finished\")"
   ]
  }
 ],
 "metadata": {
  "kernelspec": {
   "display_name": "Python 3",
   "language": "python",
   "name": "python3"
  },
  "language_info": {
   "codemirror_mode": {
    "name": "ipython",
    "version": 3
   },
   "file_extension": ".py",
   "mimetype": "text/x-python",
   "name": "python",
   "nbconvert_exporter": "python",
   "pygments_lexer": "ipython3",
   "version": "3.6.2"
  }
 },
 "nbformat": 4,
 "nbformat_minor": 2
}
