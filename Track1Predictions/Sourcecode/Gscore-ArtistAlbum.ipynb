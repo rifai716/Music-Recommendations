{
 "cells": [
  {
   "cell_type": "code",
   "execution_count": 1,
   "metadata": {
    "collapsed": true
   },
   "outputs": [],
   "source": [
    "##################################################################\n",
    "### Summary\n",
    "\n",
    "## Functions\n",
    "def read_lines(file, num):\n",
    "    lines = []\n",
    "    line = file.readline()\n",
    "    lines.append(line)\n",
    "    if line:\n",
    "        for i in range(1,num):\n",
    "            lines.append(file.readline())\n",
    "        return lines\n",
    "    else:\n",
    "        return line"
   ]
  },
  {
   "cell_type": "code",
   "execution_count": 2,
   "metadata": {},
   "outputs": [
    {
     "name": "stdout",
     "output_type": "stream",
     "text": [
      "Finished\n"
     ]
    }
   ],
   "source": [
    "##################################################################\n",
    "### Main Program\n",
    "## Variables\n",
    "train_dict = {}\n",
    "train_user = -1\n",
    "## Main Program\n",
    "with open('/Users/whiplash/SJSU/Semester 2/CMPE 256/Project/Webscope_C15/track2/Data/test_artist_album_score.txt','w') as testResult:\n",
    "    with open('/Users/whiplash/SJSU/Semester 2/CMPE 256/Project/Webscope_C15/track2/Data/test_artist_album.txt') as testData:\n",
    "        with open('/Users/whiplash/SJSU/Semester 2/CMPE 256/Project/Webscope_C15/track2/trainIdx2.txt') as trainData:\n",
    "            # 6 test song for each user\n",
    "            lines_test = read_lines(testData,6)\n",
    "            while lines_test:\n",
    "                cur_test = lines_test[0].strip(\"\\n\").split(\"|\")\n",
    "                cur_user = cur_test[0]\n",
    "                #Navigate to the current user\n",
    "                while int(train_user) < int(cur_user):\n",
    "                    lines_train = trainData.readline()\n",
    "                    [train_user,train_user_rates] = lines_train.strip(\"\\n\").split(\"|\")\n",
    "                    lines_train = read_lines(trainData,int(train_user_rates))\n",
    "\n",
    "                #Set Up Dictionary\n",
    "                train_dict.clear()\n",
    "                for line_train in lines_train:\n",
    "                    train_dict_item = line_train.strip(\"\\n\").split(\"\\t\")\n",
    "                    train_dict[train_dict_item[0]] = train_dict_item[1]\n",
    "                    \n",
    "                for line_test in lines_test:\n",
    "                    test_song = line_test.strip(\"\\n\").split(\"|\")\n",
    "                    testResult.write(cur_user+\"|\"+test_song[1]+\"|\"+test_song[2]+\"|\")\n",
    "\n",
    "                    del test_song[:3]\n",
    "                    cur_rating = [train_dict[x] for x in test_song if x in train_dict]\n",
    "\n",
    "                    if not cur_rating:\n",
    "                        cur_rating.append(\"None\")\n",
    "                    testResult.write(\"|\".join(cur_rating))\n",
    "                    testResult.write(\"\\n\")\n",
    "                lines_test = read_lines(testData,6)\n",
    "#                 print(cur_user,time.time()-start_time)\n",
    "#                 print(\"Next User\")\n",
    "print(\"Finished\")"
   ]
  }
 ],
 "metadata": {
  "kernelspec": {
   "display_name": "Python 3",
   "language": "python",
   "name": "python3"
  },
  "language_info": {
   "codemirror_mode": {
    "name": "ipython",
    "version": 3
   },
   "file_extension": ".py",
   "mimetype": "text/x-python",
   "name": "python",
   "nbconvert_exporter": "python",
   "pygments_lexer": "ipython3",
   "version": "3.6.2"
  }
 },
 "nbformat": 4,
 "nbformat_minor": 2
}
