{
 "cells": [
  {
   "cell_type": "code",
   "execution_count": 1,
   "metadata": {
    "collapsed": true
   },
   "outputs": [],
   "source": [
    "## Libraries & Functions\n",
    "# Load Libraries\n",
    "import os\n",
    "\n",
    "# Environment Variables\n",
    "TEST_HIE_SCORE = '/Users/whiplash/SJSU/Semester 2/CMPE 256/Project/Webscope_C15/track2/Data/test_raw_score.txt'\n",
    "TEST_HIE_FILE = '/Users/whiplash/SJSU/Semester 2/CMPE 256/Project/Webscope_C15/track2/testTrack_hierarchy.txt'\n",
    "TRAIN_DATA_FILE = '/Users/whiplash/SJSU/Semester 2/CMPE 256/Project/Webscope_C15/track2/trainIdx2.txt'"
   ]
  },
  {
   "cell_type": "code",
   "execution_count": 2,
   "metadata": {
    "collapsed": true
   },
   "outputs": [],
   "source": [
    "# Functions\n",
    "def read_lines(file, num):\n",
    "    lines = []\n",
    "    line = file.readline()\n",
    "    lines.append(line)\n",
    "    if line:\n",
    "        for i in range(1,num):\n",
    "            lines.append(file.readline())\n",
    "        return lines\n",
    "    else:\n",
    "        return line"
   ]
  },
  {
   "cell_type": "code",
   "execution_count": 3,
   "metadata": {},
   "outputs": [
    {
     "name": "stdout",
     "output_type": "stream",
     "text": [
      "Finished\n"
     ]
    }
   ],
   "source": [
    "##################################################################\n",
    "### Main Program\n",
    "## Define Variables\n",
    "train_dict = {}\n",
    "train_user = -1\n",
    "\n",
    "## Read file\n",
    "# Destination file\n",
    "with open(TEST_HIE_SCORE,'w') as testResult:\n",
    "    # Source file that contains the item ID in the hierarchy structure\n",
    "    with open(TEST_HIE_FILE) as testData:\n",
    "        # Source file that contains the item ratings by each user.\n",
    "        with open(TRAIN_DATA_FILE) as trainData:\n",
    "            # 6 test song for each user\n",
    "            lines_test = read_lines(testData,6)\n",
    "            while lines_test:\n",
    "                cur_test = lines_test[0].strip(\"\\n\").split(\"|\")\n",
    "                cur_user = cur_test[0]\n",
    "\n",
    "                # Navigate to the current user in training data.\n",
    "                while int(train_user) < int(cur_user):\n",
    "                    lines_train = trainData.readline()\n",
    "                    [train_user,train_user_rates] = lines_train.strip(\"\\n\").split(\"|\")\n",
    "                    lines_train = read_lines(trainData,int(train_user_rates))\n",
    "    \n",
    "                # Set Up Dictionary for the current user.\n",
    "                train_dict.clear()\n",
    "                for line_train in lines_train:\n",
    "                    train_dict_item = line_train.strip(\"\\n\").split(\"\\t\")\n",
    "                    train_dict[train_dict_item[0]] = train_dict_item[1]\n",
    "                # Get ratings for each line in hierarchy structure.\n",
    "                for line_test in lines_test:\n",
    "                    test_song = line_test.strip(\"\\n\").split(\"|\")\n",
    "                    testResult.write(cur_user+\"|\"+test_song[1]+\"|\")\n",
    "                    #print(cur_user,train_user,train_user_rates,time.time()-start_time)\n",
    "                    del test_song[:2]\n",
    "                    cur_rating = [train_dict[x] if x in train_dict else \"None\" for x in test_song ]\n",
    "\n",
    "                    testResult.write(\"|\".join(cur_rating))\n",
    "                    testResult.write(\"\\n\")\n",
    "                # Read hierarchy structure for next user\n",
    "                lines_test = read_lines(testData,6)\n",
    "#                 print(cur_user)\n",
    "                #print(\"Next User\")\n",
    "print(\"Finished\")"
   ]
  },
  {
   "cell_type": "code",
   "execution_count": null,
   "metadata": {
    "collapsed": true
   },
   "outputs": [],
   "source": []
  }
 ],
 "metadata": {
  "kernelspec": {
   "display_name": "Python 3",
   "language": "python",
   "name": "python3"
  },
  "language_info": {
   "codemirror_mode": {
    "name": "ipython",
    "version": 3
   },
   "file_extension": ".py",
   "mimetype": "text/x-python",
   "name": "python",
   "nbconvert_exporter": "python",
   "pygments_lexer": "ipython3",
   "version": "3.6.2"
  }
 },
 "nbformat": 4,
 "nbformat_minor": 2
}
